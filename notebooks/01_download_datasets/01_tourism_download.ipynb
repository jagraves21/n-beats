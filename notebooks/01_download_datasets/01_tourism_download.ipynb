{
 "cells": [
  {
   "cell_type": "markdown",
   "id": "30057fb9",
   "metadata": {},
   "source": [
    "# Imports"
   ]
  },
  {
   "cell_type": "code",
   "execution_count": 1,
   "id": "d7491854",
   "metadata": {},
   "outputs": [],
   "source": [
    "import os\n",
    "import sys\n",
    "\n",
    "sys.path.append(\"../../src\")\n",
    "import timeseries\n",
    "import timeseries.datasets"
   ]
  },
  {
   "cell_type": "markdown",
   "id": "972c1e69",
   "metadata": {},
   "source": [
    "# Dowload Dataset"
   ]
  },
  {
   "cell_type": "code",
   "execution_count": 2,
   "id": "7340098d",
   "metadata": {},
   "outputs": [
    {
     "name": "stdout",
     "output_type": "stream",
     "text": [
      "Zip file already exists at: /Users/jagraves21/notebooks/n-beats/data/Tourism/27-3-Athanasopoulos1.zip\n",
      "Extracting dataset to: /Users/jagraves21/notebooks/n-beats/data/Tourism/raw ...\n",
      "Skipped (up-to-date): yearly_in.csv\n",
      "Skipped (up-to-date): yearly_oos.csv\n",
      "Skipped (up-to-date): monthly_in.csv\n",
      "Skipped (up-to-date): monthly_oos.csv\n",
      "Skipped (up-to-date): quarterly_in.csv\n",
      "Skipped (up-to-date): quarterly_oos.csv\n"
     ]
    }
   ],
   "source": [
    "tourism = timeseries.datasets.tourism\n",
    "tourism.download_dataset()"
   ]
  },
  {
   "cell_type": "markdown",
   "id": "0248dc7e",
   "metadata": {},
   "source": [
    "# Display Content"
   ]
  },
  {
   "cell_type": "markdown",
   "id": "eed4e92f",
   "metadata": {},
   "source": [
    "## Downloaded Content"
   ]
  },
  {
   "cell_type": "code",
   "execution_count": 3,
   "id": "47379da1",
   "metadata": {},
   "outputs": [
    {
     "name": "stdout",
     "output_type": "stream",
     "text": [
      "raw\n",
      "├── monthly_in.csv\n",
      "├── monthly_oos.csv\n",
      "├── quarterly_in.csv\n",
      "├── quarterly_oos.csv\n",
      "├── yearly_in.csv\n",
      "└── yearly_oos.csv\n"
     ]
    }
   ],
   "source": [
    "timeseries.path_utils.print_tree(tourism.get_raw_dir())"
   ]
  },
  {
   "cell_type": "markdown",
   "id": "dcd55a9c",
   "metadata": {},
   "source": [
    "## All Dataset Content"
   ]
  },
  {
   "cell_type": "code",
   "execution_count": 4,
   "id": "09cfc249",
   "metadata": {},
   "outputs": [
    {
     "name": "stdout",
     "output_type": "stream",
     "text": [
      "Tourism\n",
      "├── 27-3-Athanasopoulos1.zip\n",
      "├── processed\n",
      "│   ├── monthly.csv\n",
      "│   ├── quarterly.csv\n",
      "│   └── yearly.csv\n",
      "└── raw\n",
      "    ├── monthly_in.csv\n",
      "    ├── monthly_oos.csv\n",
      "    ├── quarterly_in.csv\n",
      "    ├── quarterly_oos.csv\n",
      "    ├── yearly_in.csv\n",
      "    └── yearly_oos.csv\n"
     ]
    }
   ],
   "source": [
    "timeseries.path_utils.print_tree(tourism.get_dataset_dir())"
   ]
  }
 ],
 "metadata": {
  "kernelspec": {
   "display_name": "Python 3 (ipykernel)",
   "language": "python",
   "name": "python3"
  },
  "language_info": {
   "codemirror_mode": {
    "name": "ipython",
    "version": 3
   },
   "file_extension": ".py",
   "mimetype": "text/x-python",
   "name": "python",
   "nbconvert_exporter": "python",
   "pygments_lexer": "ipython3",
   "version": "3.11.7"
  }
 },
 "nbformat": 4,
 "nbformat_minor": 5
}
