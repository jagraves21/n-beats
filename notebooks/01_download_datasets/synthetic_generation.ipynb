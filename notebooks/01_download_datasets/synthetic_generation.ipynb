{
 "cells": [
  {
   "cell_type": "markdown",
   "id": "30057fb9",
   "metadata": {},
   "source": [
    "# Imports"
   ]
  },
  {
   "cell_type": "code",
   "execution_count": 1,
   "id": "d7491854",
   "metadata": {},
   "outputs": [],
   "source": [
    "import os\n",
    "import sys\n",
    "\n",
    "sys.path.append(\"../../src\")\n",
    "import ts_datasets\n",
    "import ts_datasets.datasets"
   ]
  },
  {
   "cell_type": "markdown",
   "id": "972c1e69",
   "metadata": {},
   "source": [
    "# Dowload Dataset"
   ]
  },
  {
   "cell_type": "code",
   "execution_count": 2,
   "id": "7340098d",
   "metadata": {},
   "outputs": [
    {
     "name": "stderr",
     "output_type": "stream",
     "text": [
      "2025-10-15 16:48:53,683 - INFO - Generating synthetic data...\n",
      "2025-10-15 16:48:53,689 - INFO - Saved DataFrame to processed directory: /Users/jagraves21/notebooks/n-beats/data/Synthetic/raw/training.csv\n",
      "2025-10-15 16:48:53,691 - INFO - Saved DataFrame to processed directory: /Users/jagraves21/notebooks/n-beats/data/Synthetic/raw/testing.csv\n"
     ]
    }
   ],
   "source": [
    "synthetic = ts_datasets.datasets.synthetic\n",
    "synthetic.download_dataset()"
   ]
  },
  {
   "cell_type": "markdown",
   "id": "0248dc7e",
   "metadata": {},
   "source": [
    "# Display Content"
   ]
  },
  {
   "cell_type": "markdown",
   "id": "eed4e92f",
   "metadata": {},
   "source": [
    "## Downloaded Content"
   ]
  },
  {
   "cell_type": "code",
   "execution_count": 3,
   "id": "47379da1",
   "metadata": {},
   "outputs": [
    {
     "name": "stdout",
     "output_type": "stream",
     "text": [
      "raw\n",
      "├── testing.csv\n",
      "└── training.csv\n"
     ]
    }
   ],
   "source": [
    "ts_datasets.path_utils.print_tree(synthetic.get_raw_dir())"
   ]
  },
  {
   "cell_type": "markdown",
   "id": "dcd55a9c",
   "metadata": {},
   "source": [
    "## All Dataset Content"
   ]
  },
  {
   "cell_type": "code",
   "execution_count": 4,
   "id": "09cfc249",
   "metadata": {},
   "outputs": [
    {
     "name": "stdout",
     "output_type": "stream",
     "text": [
      "Synthetic\n",
      "└── raw\n",
      "    ├── testing.csv\n",
      "    └── training.csv\n"
     ]
    }
   ],
   "source": [
    "ts_datasets.path_utils.print_tree(synthetic.get_dataset_dir())"
   ]
  }
 ],
 "metadata": {
  "kernelspec": {
   "display_name": "Python 3 (ipykernel)",
   "language": "python",
   "name": "python3"
  },
  "language_info": {
   "codemirror_mode": {
    "name": "ipython",
    "version": 3
   },
   "file_extension": ".py",
   "mimetype": "text/x-python",
   "name": "python",
   "nbconvert_exporter": "python",
   "pygments_lexer": "ipython3",
   "version": "3.11.7"
  }
 },
 "nbformat": 4,
 "nbformat_minor": 5
}
